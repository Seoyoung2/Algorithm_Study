{
 "cells": [
  {
   "cell_type": "markdown",
   "metadata": {},
   "source": [
    "함수 solution은 정수 x와 자연수 n을 입력 받아, x부터 시작해 x씩 증가하는 숫자를 n개 지니는 리스트를 리턴해야 합니다. 다음 제한 조건을 보고, 조건을 만족하는 함수, solution을 완성해주세요.\n",
    "\n",
    "- x는 -10000000 이상, 10000000 이하인 정수입니다.\n",
    "- n은 1000 이하인 자연수입니다."
   ]
  },
  {
   "cell_type": "code",
   "execution_count": 1,
   "metadata": {},
   "outputs": [
    {
     "name": "stdout",
     "output_type": "stream",
     "text": [
      "[2, 4, 6, 8, 10]\n",
      "[-4, -8]\n"
     ]
    }
   ],
   "source": [
    "def solution(x, n):\n",
    "    ans = [x * i for i in range(1,n+1)]\n",
    "    return ans\n",
    "\n",
    "print(solution(2,5))\n",
    "print(solution(-4,2))"
   ]
  }
 ],
 "metadata": {
  "kernelspec": {
   "display_name": "Python 3",
   "language": "python",
   "name": "python3"
  },
  "language_info": {
   "codemirror_mode": {
    "name": "ipython",
    "version": 3
   },
   "file_extension": ".py",
   "mimetype": "text/x-python",
   "name": "python",
   "nbconvert_exporter": "python",
   "pygments_lexer": "ipython3",
   "version": "3.7.1"
  }
 },
 "nbformat": 4,
 "nbformat_minor": 2
}
