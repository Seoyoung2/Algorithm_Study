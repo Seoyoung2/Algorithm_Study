{
 "cells": [
  {
   "cell_type": "markdown",
   "metadata": {},
   "source": [
    "2016년 1월 1일은 금요일입니다. 2016년 a월 b일은 무슨 요일일까요? 두 수 a ,b를 입력받아 2016년 a월 b일이 무슨 요일인지 리턴하는 함수, solution을 완성하세요. 요일의 이름은 일요일부터 토요일까지 각각 \"SUN,MON,TUE,WED,THU,FRI,SAT\" 입니다.\n",
    "\n",
    "예를 들어 a=5, b=24라면 5월 24일은 화요일이므로 문자열 TUE를 반환하세요.\n",
    "\n",
    "- 2016년은 윤년입니다.\n",
    "- 2016년 a월 b일은 실제로 있는 날입니다. (13월 26일이나 2월 45일같은 날짜는 주어지지 않습니다)"
   ]
  },
  {
   "cell_type": "code",
   "execution_count": 7,
   "metadata": {},
   "outputs": [
    {
     "name": "stdout",
     "output_type": "stream",
     "text": [
      "THU\n"
     ]
    }
   ],
   "source": [
    "def solution(a, b):\n",
    "    answer = [\"FRI\", \"SAT\", \"SUN\", \"MON\", \"TUE\", \"WED\", \"THU\"]\n",
    "    month = [31, 29, 31, 30, 31, 30, 31, 31, 30, 31, 30, 31]\n",
    "    \n",
    "    sum_day = sum(month[:a-1]) + b - 1\n",
    "    return answer[(sum_day) % 7]\n",
    "\n",
    "print(solution(5, 26))"
   ]
  },
  {
   "cell_type": "markdown",
   "metadata": {},
   "source": [
    "datetime() 을 활용할 수 있다."
   ]
  },
  {
   "cell_type": "code",
   "execution_count": 8,
   "metadata": {},
   "outputs": [
    {
     "name": "stdout",
     "output_type": "stream",
     "text": [
      "THU\n"
     ]
    }
   ],
   "source": [
    "import datetime\n",
    "\n",
    "def getDayName(a,b):\n",
    "    t = 'MON TUE WED THU FRI SAT SUN'.split()\n",
    "    return t[datetime.datetime(2016, a, b).weekday()]\n",
    "\n",
    "\n",
    "#아래 코드는 테스트를 위한 출력 코드입니다.\n",
    "print(getDayName(5,26))"
   ]
  }
 ],
 "metadata": {
  "kernelspec": {
   "display_name": "Python 3",
   "language": "python",
   "name": "python3"
  },
  "language_info": {
   "codemirror_mode": {
    "name": "ipython",
    "version": 3
   },
   "file_extension": ".py",
   "mimetype": "text/x-python",
   "name": "python",
   "nbconvert_exporter": "python",
   "pygments_lexer": "ipython3",
   "version": "3.7.1"
  }
 },
 "nbformat": 4,
 "nbformat_minor": 2
}
