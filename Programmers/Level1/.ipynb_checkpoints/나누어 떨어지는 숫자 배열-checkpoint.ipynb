{
 "cells": [
  {
   "cell_type": "markdown",
   "metadata": {},
   "source": [
    "array의 각 element 중 divisor로 나누어 떨어지는 값을 오름차순으로 정렬한 배열을 반환하는 함수, solution을 작성해주세요.\n",
    "divisor로 나누어 떨어지는 element가 하나도 없다면 배열에 -1을 담아 반환하세요.\n",
    "\n",
    "- arr은 자연수를 담은 배열입니다.\n",
    "- 정수 i, j에 대해 i ≠ j 이면 arr[i] ≠ arr[j] 입니다.\n",
    "- divisor는 자연수입니다.\n",
    "- array는 길이 1 이상인 배열입니다."
   ]
  },
  {
   "cell_type": "code",
   "execution_count": 1,
   "metadata": {},
   "outputs": [
    {
     "name": "stdout",
     "output_type": "stream",
     "text": [
      "[1, 2, 3, 36]\n"
     ]
    }
   ],
   "source": [
    "def solution(arr, divisor):\n",
    "    answer = sorted([i for i in arr if i%divisor == 0])\n",
    "    if answer == []:\n",
    "        answer.append(-1)\n",
    "    return answer\n",
    "\n",
    "print(solution([2, 36, 1, 3], 1))"
   ]
  },
  {
   "cell_type": "markdown",
   "metadata": {},
   "source": [
    "#### return 에도 조건문을 쓸 수 있다."
   ]
  },
  {
   "cell_type": "code",
   "execution_count": 2,
   "metadata": {},
   "outputs": [
    {
     "name": "stdout",
     "output_type": "stream",
     "text": [
      "[1, 2, 3, 36]\n"
     ]
    }
   ],
   "source": [
    "def solution(arr, divisor):\n",
    "    arr = [x for x in arr if x % divisor == 0];\n",
    "    arr.sort();\n",
    "    return arr if len(arr) != 0 else [-1];\n",
    "\n",
    "print(solution([2, 36, 1, 3], 1))"
   ]
  }
 ],
 "metadata": {
  "kernelspec": {
   "display_name": "Python 3",
   "language": "python",
   "name": "python3"
  },
  "language_info": {
   "codemirror_mode": {
    "name": "ipython",
    "version": 3
   },
   "file_extension": ".py",
   "mimetype": "text/x-python",
   "name": "python",
   "nbconvert_exporter": "python",
   "pygments_lexer": "ipython3",
   "version": "3.7.1"
  }
 },
 "nbformat": 4,
 "nbformat_minor": 2
}
