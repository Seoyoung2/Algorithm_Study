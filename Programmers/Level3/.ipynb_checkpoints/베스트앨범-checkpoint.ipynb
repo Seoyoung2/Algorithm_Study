{
 "cells": [
  {
   "cell_type": "markdown",
   "metadata": {},
   "source": [
    "스트리밍 사이트에서 장르 별로 가장 많이 재생된 노래를 두 개씩 모아 베스트 앨범을 출시하려 합니다. 노래는 고유 번호로 구분하며, 노래를 수록하는 기준은 다음과 같습니다.\n",
    "\n",
    "1. 속한 노래가 많이 재생된 장르를 먼저 수록합니다.\n",
    "2. 장르 내에서 많이 재생된 노래를 먼저 수록합니다.\n",
    "3. 장르 내에서 재생 횟수가 같은 노래 중에서는 고유 번호가 낮은 노래를 먼저 수록합니다.\n",
    "\n",
    "노래의 장르를 나타내는 문자열 배열 genres와 노래별 재생 횟수를 나타내는 정수 배열 plays가 주어질 때, 베스트 앨범에 들어갈 노래의 고유 번호를 순서대로 return 하도록 solution 함수를 완성하세요.\n",
    "\n",
    "- genres[i]는 고유번호가 i인 노래의 장르입니다.\n",
    "- plays[i]는 고유번호가 i인 노래가 재생된 횟수입니다.\n",
    "- genres와 plays의 길이는 같으며, 이는 1 이상 10,000 이하입니다.\n",
    "- 장르 종류는 100개 미만입니다.\n",
    "- 장르에 속한 곡이 하나라면, 하나의 곡만 선택합니다.\n",
    "- 모든 장르는 재생된 횟수가 다릅니다."
   ]
  },
  {
   "cell_type": "code",
   "execution_count": 1,
   "metadata": {},
   "outputs": [
    {
     "name": "stdout",
     "output_type": "stream",
     "text": [
      "[4, 1, 3, 0]\n"
     ]
    }
   ],
   "source": [
    "from operator import itemgetter\n",
    "from collections import defaultdict\n",
    "\n",
    "def solution(genres, plays):\n",
    "    play_dict = defaultdict(lambda: 0)\n",
    "    for gen, play in zip(genres, plays):\n",
    "        play_dict[gen] += play\n",
    "        \n",
    "    gen_list = [gen for gen, play in sorted(play_dict.items(), key=itemgetter(1), reverse=True)]\n",
    "    \n",
    "    chart = defaultdict(list)\n",
    "    for idx, x in enumerate(zip(genres,plays)):\n",
    "        chart[x[0]].append((x[1], idx))\n",
    "    \n",
    "    ans = []\n",
    "    for gen in gen_list:\n",
    "        tmp = sorted(chart[gen], key=itemgetter(0), reverse=True)\n",
    "        ans.append(tmp[0][1])\n",
    "        if len(tmp) >= 2:\n",
    "            ans.append(tmp[1][1])\n",
    "    return ans\n",
    "\n",
    "\n",
    "print(solution([\"classic\", \"pop\", \"classic\", \"classic\", \"pop\"], [500, 600, 150, 800, 2500]))"
   ]
  },
  {
   "cell_type": "markdown",
   "metadata": {},
   "source": [
    "고려할 것이 너무 많고 복잡해서 오래걸린 문제,,,,\n",
    "\n",
    "다른 사람의 풀이를 보니까 class 로 정리하는 방법과 제네레이터? 방법 등등 다양했다. "
   ]
  },
  {
   "cell_type": "code",
   "execution_count": null,
   "metadata": {},
   "outputs": [],
   "source": []
  }
 ],
 "metadata": {
  "kernelspec": {
   "display_name": "Python 3",
   "language": "python",
   "name": "python3"
  },
  "language_info": {
   "codemirror_mode": {
    "name": "ipython",
    "version": 3
   },
   "file_extension": ".py",
   "mimetype": "text/x-python",
   "name": "python",
   "nbconvert_exporter": "python",
   "pygments_lexer": "ipython3",
   "version": "3.6.6"
  }
 },
 "nbformat": 4,
 "nbformat_minor": 2
}
