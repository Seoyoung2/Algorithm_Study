{
 "cells": [
  {
   "cell_type": "markdown",
   "metadata": {},
   "source": [
    "주어진 항공권을 모두 이용하여 여행경로를 짜려고 합니다. 항상 ICN 공항에서 출발합니다.\n",
    "\n",
    "항공권 정보가 담긴 2차원 배열 tickets가 매개변수로 주어질 때, 방문하는 공항 경로를 배열에 담아 return 하도록 solution 함수를 작성해주세요.\n",
    "\n",
    "- 모든 공항은 알파벳 대문자 3글자로 이루어집니다.\n",
    "- 주어진 공항 수는 3개 이상 10,000개 이하입니다.\n",
    "- tickets의 각 행 [a, b]는 a 공항에서 b 공항으로 가는 항공권이 있다는 의미입니다.\n",
    "- 주어진 항공권은 모두 사용해야 합니다.\n",
    "- 만일 가능한 경로가 2개 이상일 경우 알파벳 순서가 앞서는 경로를 return 합니다.\n",
    "- 모든 도시를 방문할 수 없는 경우는 주어지지 않습니다."
   ]
  },
  {
   "cell_type": "code",
   "execution_count": 1,
   "metadata": {},
   "outputs": [
    {
     "name": "stdout",
     "output_type": "stream",
     "text": [
      "['ICN', 'ATL', 'ICN', 'SFO', 'ATL', 'SFO']\n"
     ]
    }
   ],
   "source": [
    "def solution(tickets):\n",
    "    visit, graph = {}, {}\n",
    "    stack, mylist = ['ICN'], ['ICN']\n",
    "    for i in tickets:\n",
    "        if i[0] not in graph:\n",
    "            graph[i[0]] = [i[1]]\n",
    "        else:\n",
    "            graph[i[0]].append(i[1])\n",
    "    for j in graph:\n",
    "        graph[j].sort()\n",
    "\n",
    "    while stack:\n",
    "        x = stack.pop()\n",
    "        for y in graph[x]:\n",
    "            if (x, y) not in visit:\n",
    "                mylist.append(y)\n",
    "                visit[(x, y)] = True\n",
    "                if y not in graph:\n",
    "                    return mylist\n",
    "                stack.append(y)\n",
    "                break\n",
    "            \n",
    "    return mylist\n",
    "\n",
    "\n",
    "print(solution(\t[[\"ICN\", \"SFO\"], [\"ICN\", \"ATL\"], [\"SFO\", \"ATL\"], [\"ATL\", \"ICN\"], [\"ATL\", \"SFO\"]]))"
   ]
  },
  {
   "cell_type": "markdown",
   "metadata": {},
   "source": [
    "이 경우는 테스트케이스 2개를 통과하지 못했다. 그 이유는 \n",
    "\n",
    "1->2, 1->3, 3->2 이라는 티켓이 있을 때, 2와 3중에 더 빠른 2를 선택하고 2에서 출발하는 티켓이 없기 때문에 종료한다. 하지만 이럴 경우에 경로가 끊기는 2 대신 3을 선택해서 1->3->2 를 출력해야한다. "
   ]
  },
  {
   "cell_type": "code",
   "execution_count": 2,
   "metadata": {},
   "outputs": [
    {
     "name": "stdout",
     "output_type": "stream",
     "text": [
      "['ICN']\n",
      "['ICN', 'ATL']\n",
      "['ICN', 'ATL', 'ICN']\n",
      "['ICN', 'ATL', 'ICN', 'SFO']\n",
      "['ICN', 'ATL', 'ICN', 'SFO', 'ATL']\n",
      "['ICN', 'ATL', 'ICN', 'SFO', 'ATL', 'SFO']\n",
      "['ICN', 'ATL', 'ICN', 'SFO', 'ATL', 'SFO']\n",
      "['ICN']\n",
      "['ICN', 'BOO']\n",
      "['ICN', 'COO']\n",
      "['ICN', 'COO', 'ICN']\n",
      "['ICN', 'COO', 'ICN', 'BOO']\n",
      "['ICN', 'COO', 'ICN', 'BOO']\n"
     ]
    }
   ],
   "source": [
    "from collections import defaultdict \n",
    "\n",
    "def dfs(graph, N, key, footprint):\n",
    "    print(footprint)\n",
    "\n",
    "    if len(footprint) == N + 1:\n",
    "        return footprint\n",
    "\n",
    "    for idx, country in enumerate(graph[key]):\n",
    "        graph[key].pop(idx)\n",
    "\n",
    "        tmp = footprint[:]\n",
    "        tmp.append(country)\n",
    "\n",
    "        ret = dfs(graph, N, country, tmp)\n",
    "\n",
    "        graph[key].insert(idx, country)\n",
    "\n",
    "        if ret:\n",
    "            return ret\n",
    "\n",
    "\n",
    "def solution(tickets):\n",
    "    answer = []\n",
    "\n",
    "    graph = defaultdict(list)\n",
    "\n",
    "    N = len(tickets)\n",
    "    for ticket in tickets:\n",
    "        graph[ticket[0]].append(ticket[1])\n",
    "        graph[ticket[0]].sort()\n",
    "\n",
    "    answer = dfs(graph, N, \"ICN\", [\"ICN\"])\n",
    "\n",
    "    return answer\n",
    "\n",
    "\n",
    "\n",
    "print(solution(\t[[\"ICN\", \"SFO\"], [\"ICN\", \"ATL\"], [\"SFO\", \"ATL\"], [\"ATL\", \"ICN\"], [\"ATL\", \"SFO\"]]))\n",
    "print(solution(\t[[\"ICN\", \"COO\"], [\"ICN\", \"BOO\"], [\"COO\", \"ICN\"]]))"
   ]
  },
  {
   "cell_type": "markdown",
   "metadata": {},
   "source": [
    "몇 시간 고민했지만 해결방법을 찾지 못해 다른사람의 답을 보았다.\n",
    "\n",
    "DFS와 재귀함수를 이용해서 footprint를 구한다. 맞으면 계속 진행하고 순서가 틀리거나 잘못되면 함수자체에는 반환값이 없기 때문에 None을 return한다. 그 결과, pop으로 꺼낸 (idx, country)를 다시 그래프에 넣어주고 반복문을 진행한다."
   ]
  },
  {
   "cell_type": "markdown",
   "metadata": {},
   "source": [
    "*** from collections import defaultdict 에서 사용한 defaultdict는 처음 키를 지정할 때 값을 주지 않으면 해당 키에 대한 값을 디폴트 값을 지정하는 dictionary 자료형이다. 위 코드에서는 defaultdict(list)로 사용했다."
   ]
  }
 ],
 "metadata": {
  "kernelspec": {
   "display_name": "Python 3",
   "language": "python",
   "name": "python3"
  },
  "language_info": {
   "codemirror_mode": {
    "name": "ipython",
    "version": 3
   },
   "file_extension": ".py",
   "mimetype": "text/x-python",
   "name": "python",
   "nbconvert_exporter": "python",
   "pygments_lexer": "ipython3",
   "version": "3.6.6"
  }
 },
 "nbformat": 4,
 "nbformat_minor": 2
}
