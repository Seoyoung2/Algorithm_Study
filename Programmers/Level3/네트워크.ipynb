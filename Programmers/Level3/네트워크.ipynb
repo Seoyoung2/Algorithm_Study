{
 "cells": [
  {
   "cell_type": "markdown",
   "metadata": {},
   "source": [
    "네트워크란 컴퓨터 상호 간에 정보를 교환할 수 있도록 연결된 형태를 의미합니다. 예를 들어, 컴퓨터 A와 컴퓨터 B가 직접적으로 연결되어있고, 컴퓨터 B와 컴퓨터 C가 직접적으로 연결되어 있을 때 컴퓨터 A와 컴퓨터 C도 간접적으로 연결되어 정보를 교환할 수 있습니다. 따라서 컴퓨터 A, B, C는 모두 같은 네트워크 상에 있다고 할 수 있습니다.\n",
    "\n",
    "컴퓨터의 개수 n, 연결에 대한 정보가 담긴 2차원 배열 computers가 매개변수로 주어질 때, 네트워크의 개수를 return 하도록 solution 함수를 작성하시오.\n",
    "\n",
    "- 컴퓨터의 개수 n은 1 이상 200 이하인 자연수입니다.\n",
    "- 각 컴퓨터는 0부터 n-1인 정수로 표현합니다.\n",
    "- i번 컴퓨터와 j번 컴퓨터가 연결되어 있으면 computers[i][j]를 1로 표현합니다.\n",
    "- computer[i][i]는 항상 1입니다."
   ]
  },
  {
   "cell_type": "code",
   "execution_count": 2,
   "metadata": {},
   "outputs": [
    {
     "name": "stdout",
     "output_type": "stream",
     "text": [
      "2\n",
      "1\n"
     ]
    }
   ],
   "source": [
    "def solution(n, computers):\n",
    "    visit = {}\n",
    "    cnt = 0\n",
    "    for k in range(n):\n",
    "        if k not in visit:\n",
    "            stack = [k]\n",
    "            cnt += 1\n",
    "            \n",
    "            while stack:\n",
    "                x = stack.pop()\n",
    "                if x not in visit:\n",
    "                    visit[x] = cnt\n",
    "                    for i in range(n):\n",
    "                        if i != x and computers[x][i]:\n",
    "                            stack.append(i)\n",
    "                            \n",
    "    return max(visit.values())\n",
    "\n",
    "\n",
    "print(solution(3, [[1,1,0],[1,1,0],[0,0,1]]))\n",
    "print(solution(3, [[1,1,0],[1,1,1],[0,1,1]]))"
   ]
  },
  {
   "cell_type": "code",
   "execution_count": null,
   "metadata": {},
   "outputs": [],
   "source": []
  }
 ],
 "metadata": {
  "kernelspec": {
   "display_name": "Python 3",
   "language": "python",
   "name": "python3"
  },
  "language_info": {
   "codemirror_mode": {
    "name": "ipython",
    "version": 3
   },
   "file_extension": ".py",
   "mimetype": "text/x-python",
   "name": "python",
   "nbconvert_exporter": "python",
   "pygments_lexer": "ipython3",
   "version": "3.6.6"
  }
 },
 "nbformat": 4,
 "nbformat_minor": 2
}
