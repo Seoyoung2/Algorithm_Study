{
 "cells": [
  {
   "cell_type": "markdown",
   "metadata": {},
   "source": [
    "가장 왼쪽 위, 즉 집이 있는 곳의 좌표는 (1, 1)로 나타내고 가장 오른쪽 아래, 즉 학교가 있는 곳의 좌표는 (m, n)으로 나타냅니다.\n",
    "\n",
    "격자의 크기 m, n과 물이 잠긴 지역의 좌표를 담은 2차원 배열 puddles이 매개변수로 주어질 때, 학교에서 집까지 갈 수 있는 최단경로의 개수를 1,000,000,007로 나눈 나머지를 return 하도록 solution 함수를 작성해주세요.\n",
    "\n",
    "- 격자의 크기 M, N은 1 이상 100 이하인 자연수입니다.\n",
    "- 물에 잠긴 지역은 0개 이상 10개 이하입니다.\n",
    "- 집과 학교는 물에 잠기지 않았습니다."
   ]
  },
  {
   "cell_type": "code",
   "execution_count": 1,
   "metadata": {},
   "outputs": [
    {
     "data": {
      "text/plain": [
       "4"
      ]
     },
     "execution_count": 1,
     "metadata": {},
     "output_type": "execute_result"
    }
   ],
   "source": [
    "from collections import deque\n",
    "\n",
    "def solution(m, n, puddles):\n",
    "    data = [[1] * m for _ in range(n)]\n",
    "    path = [[0] * m for _ in range(n)]\n",
    "    path[0][0] = 1\n",
    "    for p in puddles:\n",
    "        data[p[1]-1][p[0]-1] = 0\n",
    "    \n",
    "    q = deque()\n",
    "    q.append((0,0))\n",
    "    dxdy = (1, 0), (-1, 0), (0, 1), (0, -1)\n",
    "    while q:\n",
    "        y, x = q.popleft()\n",
    "        for dy, dx in dxdy:\n",
    "            if x+dx<0 or x+dx>=m or y+dy<0 or y+dy>=n:\n",
    "                continue\n",
    "            if data[y+dy][x+dx] == 1:\n",
    "                data[y+dy][x+dx] += data[y][x]\n",
    "                q.append((y+dy, x+dx))\n",
    "        path[y][x] += path[y-1][x]\n",
    "        path[y][x] += path[y][x-1]\n",
    "        path[y][x] %= 1000000007\n",
    "    \n",
    "    return path[-1][-1]\n",
    "\n",
    "\n",
    "solution(4, 3, [[2,2]])"
   ]
  },
  {
   "cell_type": "code",
   "execution_count": null,
   "metadata": {},
   "outputs": [],
   "source": []
  }
 ],
 "metadata": {
  "kernelspec": {
   "display_name": "Python 3",
   "language": "python",
   "name": "python3"
  },
  "language_info": {
   "codemirror_mode": {
    "name": "ipython",
    "version": 3
   },
   "file_extension": ".py",
   "mimetype": "text/x-python",
   "name": "python",
   "nbconvert_exporter": "python",
   "pygments_lexer": "ipython3",
   "version": "3.6.6"
  }
 },
 "nbformat": 4,
 "nbformat_minor": 2
}
