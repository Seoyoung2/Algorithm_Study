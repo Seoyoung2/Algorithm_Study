{
 "cells": [
  {
   "cell_type": "markdown",
   "metadata": {},
   "source": [
    "그림에서 타일에 적힌 수는 각 타일의 한 변의 길이를 나타낸다. 타일 장식물을 구성하는 정사각형 타일 한 변의 길이를 안쪽 타일부터 시작하여 차례로 적으면 다음과 같다.\n",
    "[1, 1, 2, 3, 5, 8, .]\n",
    "지수는 문득 이러한 타일들로 구성되는 큰 직사각형의 둘레가 궁금해졌다. 예를 들어, 처음 다섯 개의 타일이 구성하는 직사각형(위에서 빨간색으로 표시한 직사각형)의 둘레는 26이다.\n",
    "\n",
    "타일의 개수 N이 주어질 때, N개의 타일로 구성된 직사각형의 둘레를 return 하도록 solution 함수를 작성하시오."
   ]
  },
  {
   "cell_type": "code",
   "execution_count": 1,
   "metadata": {},
   "outputs": [
    {
     "name": "stdout",
     "output_type": "stream",
     "text": [
      "26\n",
      "42\n"
     ]
    }
   ],
   "source": [
    "def solution(N):\n",
    "    tile = [1 for _ in range(N+1)]\n",
    "    for i in range(2, N+1):\n",
    "        tile[i] = tile[i-1] + tile[i-2]\n",
    "    return 2 * (tile[N] + tile[N-1])\n",
    "\n",
    "print(solution(5))\n",
    "print(solution(6))"
   ]
  },
  {
   "cell_type": "markdown",
   "metadata": {},
   "source": [
    "level3 인데 level1보다 더 쉬운듯......? 뭐징\n",
    "\n",
    "다른 사람 풀이 보다가 신기한 풀이법 발견했다."
   ]
  },
  {
   "cell_type": "code",
   "execution_count": 2,
   "metadata": {},
   "outputs": [
    {
     "name": "stdout",
     "output_type": "stream",
     "text": [
      "26\n",
      "42\n"
     ]
    }
   ],
   "source": [
    "def solution(N):\n",
    "    l=[1,1]\n",
    "    for i in range(2,N):\n",
    "        l.append(l[-1]+l[-2])\n",
    "    answer = (l[-1]*2+l[-2])*2\n",
    "    return answer\n",
    "\n",
    "print(solution(5))\n",
    "print(solution(6))"
   ]
  },
  {
   "cell_type": "markdown",
   "metadata": {},
   "source": [
    "리스트의 마지막 두개에 접근하는 방식이 신기하다.\n",
    "\n",
    "list[-1], list[-2] ......."
   ]
  }
 ],
 "metadata": {
  "kernelspec": {
   "display_name": "Python 3",
   "language": "python",
   "name": "python3"
  },
  "language_info": {
   "codemirror_mode": {
    "name": "ipython",
    "version": 3
   },
   "file_extension": ".py",
   "mimetype": "text/x-python",
   "name": "python",
   "nbconvert_exporter": "python",
   "pygments_lexer": "ipython3",
   "version": "3.6.6"
  }
 },
 "nbformat": 4,
 "nbformat_minor": 2
}
