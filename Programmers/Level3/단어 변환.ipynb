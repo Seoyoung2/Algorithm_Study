{
 "cells": [
  {
   "cell_type": "markdown",
   "metadata": {},
   "source": [
    "두 개의 단어 begin, target과 단어의 집합 words가 있습니다. 아래와 같은 규칙을 이용하여 begin에서 target으로 변환하는 가장 짧은 변환 과정을 찾으려고 합니다.\n",
    "\n",
    "1. 한 번에 한 개의 알파벳만 바꿀 수 있습니다.\n",
    "2. words에 있는 단어로만 변환할 수 있습니다.\n",
    "\n",
    "예를 들어 begin이 \"hit\", target가 \"cog\", words가 [hot,dot,dog,lot,log,cog]라면 hit -> hot -> dot -> dog -> cog와 같이 4단계를 거쳐 변환할 수 있습니다.\n",
    "\n",
    "두 개의 단어 begin, target과 단어의 집합 words가 매개변수로 주어질 때, 최소 몇 단계의 과정을 거쳐 begin을 target으로 변환할 수 있는지 return 하도록 solution 함수를 작성해주세요.\n",
    "\n",
    "- 각 단어는 알파벳 소문자로만 이루어져 있습니다.\n",
    "- 각 단어의 길이는 3 이상 10 이하이며 모든 단어의 길이는 같습니다.\n",
    "- words에는 3개 이상 50개 이하의 단어가 있으며 중복되는 단어는 없습니다.\n",
    "- begin과 target은 같지 않습니다.\n",
    "- 변환할 수 없는 경우에는 0를 return 합니다."
   ]
  },
  {
   "cell_type": "code",
   "execution_count": 2,
   "metadata": {},
   "outputs": [
    {
     "name": "stdout",
     "output_type": "stream",
     "text": [
      "4\n",
      "0\n"
     ]
    }
   ],
   "source": [
    "from collections import deque\n",
    "\n",
    "def solution(begin, target, words):\n",
    "    visit = {}\n",
    "    queue = deque()\n",
    "    queue.append((begin, 0))\n",
    "    if target not in words:\n",
    "        return 0\n",
    "    \n",
    "    # 탐색 가능한 단어인지 확인(알파벳 1개만 다르고 방문하지 않았어야 함)\n",
    "    def checkWord(word, visit):\n",
    "        mylist = []\n",
    "        for i in range(len(words)):\n",
    "            if words[i] in visit:\n",
    "                continue\n",
    "            tmp = sum((1 if x!=y else 0) for x, y in zip(words[i], word))\n",
    "            if tmp == 1:\n",
    "                mylist.append(words[i])\n",
    "        return mylist\n",
    "        \n",
    "        \n",
    "    while queue:\n",
    "        node, cnt = queue.popleft()\n",
    "        if node == target:\n",
    "            return cnt\n",
    "        visit[node] = True\n",
    "        wordlist = checkWord(node, visit)\n",
    "        for w in wordlist:\n",
    "            queue.append((w, cnt+1))\n",
    "            \n",
    "            \n",
    "print(solution(\"hit\", \"cog\", [\"hot\", \"dot\", \"dog\", \"lot\", \"log\", \"cog\"]))\n",
    "print(solution(\"hit\", \"cog\", [\"hot\", \"dot\", \"dog\", \"lot\", \"log\"]))"
   ]
  },
  {
   "cell_type": "markdown",
   "metadata": {},
   "source": [
    "1. 탐색 가능한 단어찾기\n",
    "(알파벳 1개만 다른경우만 가능, 새로운 단어인 경우만 가능)\n",
    "\n",
    "2. 탐색 가능한 단어를 찾으면, 탐색 횟수와 함께 queue에 저장한다.\n",
    "\n",
    "3. 시작 탐색단어를 새로 갱신하고, visit에 저장\n",
    "\n",
    "4. 1-3 반복하다가..타켓단어를 찾으면 BFS 종료."
   ]
  },
  {
   "cell_type": "markdown",
   "metadata": {},
   "source": [
    "위의 방법으로 문제를 해결했고 처음엔 어려웠지만 BFS 개념을 생각하며 푸니 성공.\n",
    "\n"
   ]
  }
 ],
 "metadata": {
  "kernelspec": {
   "display_name": "Python 3",
   "language": "python",
   "name": "python3"
  },
  "language_info": {
   "codemirror_mode": {
    "name": "ipython",
    "version": 3
   },
   "file_extension": ".py",
   "mimetype": "text/x-python",
   "name": "python",
   "nbconvert_exporter": "python",
   "pygments_lexer": "ipython3",
   "version": "3.6.6"
  }
 },
 "nbformat": 4,
 "nbformat_minor": 2
}
