{
 "cells": [
  {
   "cell_type": "markdown",
   "metadata": {},
   "source": [
    "Finn은 요즘 수학공부에 빠져 있습니다. 수학 공부를 하던 Finn은 자연수 n을 연속한 자연수들로 표현 하는 방법이 여러개라는 사실을 알게 되었습니다. 예를들어 15는 다음과 같이 4가지로 표현 할 수 있습니다.\n",
    "\n",
    "- 1 + 2 + 3 + 4 + 5 = 15\n",
    "- 4 + 5 + 6 = 15\n",
    "- 7 + 8 = 15\n",
    "- 15 = 15\n",
    "\n",
    "자연수 n이 매개변수로 주어질 때, 연속된 자연수들로 n을 표현하는 방법의 수를 return하는 solution를 완성해주세요.\n",
    "\n",
    "- n은 10,000 이하의 자연수 입니다."
   ]
  },
  {
   "cell_type": "code",
   "execution_count": 1,
   "metadata": {},
   "outputs": [
    {
     "name": "stdout",
     "output_type": "stream",
     "text": [
      "4\n"
     ]
    }
   ],
   "source": [
    "def solution(n):\n",
    "    cnt = 0\n",
    "    for i in range(1,n//2+1):\n",
    "        tmp = 0\n",
    "        for j in range(i,n+1):\n",
    "            tmp += j\n",
    "            if tmp == n:\n",
    "                cnt += 1\n",
    "                break\n",
    "            elif tmp > n:\n",
    "                break\n",
    "    return cnt+1\n",
    "\n",
    "\n",
    "print(solution(15))"
   ]
  },
  {
   "cell_type": "markdown",
   "metadata": {},
   "source": [
    "처음에 시간초과가 나길래 elif tmp>n 을 추가하여 문제를 통과했다."
   ]
  },
  {
   "cell_type": "code",
   "execution_count": 2,
   "metadata": {},
   "outputs": [
    {
     "name": "stdout",
     "output_type": "stream",
     "text": [
      "4\n"
     ]
    }
   ],
   "source": [
    "def expressions(num):\n",
    "    return len([i  for i in range(1,num+1,2) if num % i is 0])\n",
    "\n",
    "\n",
    "print(expressions(15))"
   ]
  },
  {
   "cell_type": "markdown",
   "metadata": {},
   "source": [
    "입력받은 값까지 1부터 홀수로 나누어서 나머지가 0이 되는 갯수가 답이 된다. 이런건 어떻게 생각해내지,,"
   ]
  }
 ],
 "metadata": {
  "kernelspec": {
   "display_name": "Python 3",
   "language": "python",
   "name": "python3"
  },
  "language_info": {
   "codemirror_mode": {
    "name": "ipython",
    "version": 3
   },
   "file_extension": ".py",
   "mimetype": "text/x-python",
   "name": "python",
   "nbconvert_exporter": "python",
   "pygments_lexer": "ipython3",
   "version": "3.6.6"
  }
 },
 "nbformat": 4,
 "nbformat_minor": 2
}
