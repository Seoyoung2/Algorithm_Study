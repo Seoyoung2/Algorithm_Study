{
 "cells": [
  {
   "cell_type": "markdown",
   "metadata": {},
   "source": [
    "n개의 음이 아닌 정수가 있습니다. 이 수를 적절히 더하거나 빼서 타겟 넘버를 만들려고 합니다. 예를 들어 [1, 1, 1, 1, 1]로 숫자 3을 만들려면 다음 다섯 방법을 쓸 수 있습니다.\n",
    "\n",
    "    -1+1+1+1+1 = 3\n",
    "    +1-1+1+1+1 = 3\n",
    "    +1+1-1+1+1 = 3\n",
    "    +1+1+1-1+1 = 3\n",
    "    +1+1+1+1-1 = 3\n",
    "\n",
    "사용할 수 있는 숫자가 담긴 배열 numbers, 타겟 넘버 target이 매개변수로 주어질 때 숫자를 적절히 더하고 빼서 타겟 넘버를 만드는 방법의 수를 return 하도록 solution 함수를 작성해주세요.\n",
    "\n",
    "- 주어지는 숫자의 개수는 2개 이상 20개 이하입니다.\n",
    "- 각 숫자는 1 이상 50 이하인 자연수입니다.\n",
    "- 타겟 넘버는 1 이상 1000 이하인 자연수입니다."
   ]
  },
  {
   "cell_type": "code",
   "execution_count": 2,
   "metadata": {},
   "outputs": [
    {
     "data": {
      "text/plain": [
       "5"
      ]
     },
     "execution_count": 2,
     "metadata": {},
     "output_type": "execute_result"
    }
   ],
   "source": [
    "def solution(numbers, target):\n",
    "    queue = [0]\n",
    "    for n in numbers:\n",
    "        tmp = []\n",
    "        for x in queue:\n",
    "            tmp.append(x-n)\n",
    "            tmp.append(x+n)\n",
    "        queue = tmp\n",
    "    return queue.count(target)\n",
    "\n",
    "\n",
    "solution([1,1,1,1,1], 3)"
   ]
  },
  {
   "cell_type": "markdown",
   "metadata": {},
   "source": [
    "처음 이 문제를 봤을 땐 전혀 DFS/BFS 문제가 아닌것 같았지만 생각해보니 맞았다."
   ]
  },
  {
   "cell_type": "code",
   "execution_count": 4,
   "metadata": {},
   "outputs": [
    {
     "data": {
      "text/plain": [
       "5"
      ]
     },
     "execution_count": 4,
     "metadata": {},
     "output_type": "execute_result"
    }
   ],
   "source": [
    "def solution(numbers, target):\n",
    "    if not numbers and target == 0 :\n",
    "        return 1\n",
    "    elif not numbers:\n",
    "        return 0\n",
    "    else:\n",
    "        return solution(numbers[1:], target-numbers[0]) + solution(numbers[1:], target+numbers[0])\n",
    "    \n",
    "    \n",
    "solution([1,1,1,1,1], 3)"
   ]
  },
  {
   "cell_type": "markdown",
   "metadata": {},
   "source": [
    "재귀로 target에서 numbers의 원소를 하나씩 빼서 0이 되면 answer을 1씩 증가시키는 방법도 새로웠다."
   ]
  },
  {
   "cell_type": "code",
   "execution_count": null,
   "metadata": {},
   "outputs": [],
   "source": []
  }
 ],
 "metadata": {
  "kernelspec": {
   "display_name": "Python 3",
   "language": "python",
   "name": "python3"
  },
  "language_info": {
   "codemirror_mode": {
    "name": "ipython",
    "version": 3
   },
   "file_extension": ".py",
   "mimetype": "text/x-python",
   "name": "python",
   "nbconvert_exporter": "python",
   "pygments_lexer": "ipython3",
   "version": "3.6.6"
  }
 },
 "nbformat": 4,
 "nbformat_minor": 2
}
