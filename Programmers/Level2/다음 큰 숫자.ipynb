{
 "cells": [
  {
   "cell_type": "markdown",
   "metadata": {},
   "source": [
    "자연수 n이 주어졌을 때, n의 다음 큰 숫자는 다음과 같이 정의 합니다.\n",
    "\n",
    "- 조건 1. n의 다음 큰 숫자는 n보다 큰 자연수 입니다.\n",
    "- 조건 2. n의 다음 큰 숫자와 n은 2진수로 변환했을 때 1의 갯수가 같습니다.\n",
    "- 조건 3. n의 다음 큰 숫자는 조건 1, 2를 만족하는 수 중 가장 작은 수 입니다.\n",
    "\n",
    "예를 들어서 78(1001110)의 다음 큰 숫자는 83(1010011)입니다.\n",
    "\n",
    "자연수 n이 매개변수로 주어질 때, n의 다음 큰 숫자를 return 하는 solution 함수를 완성해주세요.\n",
    "\n",
    "- n은 1,000,000 이하의 자연수 입니다."
   ]
  },
  {
   "cell_type": "code",
   "execution_count": 1,
   "metadata": {},
   "outputs": [
    {
     "name": "stdout",
     "output_type": "stream",
     "text": [
      "83\n",
      "23\n"
     ]
    }
   ],
   "source": [
    "def solution(n):\n",
    "    nn = bin(n)[2:]    \n",
    "    cnt = sum(1 for i in str(nn) if i=='1')\n",
    "    \n",
    "    cntt = 0\n",
    "    while True:\n",
    "        n += 1\n",
    "        cntt = sum(1 for i in str(bin(n)[2:]) if i=='1')\n",
    "        if cntt == cnt:\n",
    "            return n\n",
    "        \n",
    "        \n",
    "print(solution(78))\n",
    "print(solution(15))"
   ]
  },
  {
   "cell_type": "markdown",
   "metadata": {},
   "source": [
    "bin() 함수를 사용하여 2진수로 변환하여 앞의 0b를 떼고 1의 개수를 셌다.\n",
    "그리고 for문을 이용해 다음 큰 숫자를 찾는 방법으로 문제를 해결하였다.\n",
    "\n",
    "그리고 다른 사람의 풀이에서, count()라는 함수에 대해 알게되었다."
   ]
  },
  {
   "cell_type": "code",
   "execution_count": 2,
   "metadata": {},
   "outputs": [
    {
     "name": "stdout",
     "output_type": "stream",
     "text": [
      "83\n",
      "23\n"
     ]
    }
   ],
   "source": [
    "def nextBigNumber(n):\n",
    "    num1 = bin(n).count('1')\n",
    "    while True:\n",
    "        n = n + 1\n",
    "        if num1 == bin(n).count('1'):\n",
    "            break\n",
    "    return n\n",
    "\n",
    "#아래 코드는 테스트를 위한 출력 코드입니다.\n",
    "print(nextBigNumber(78))\n",
    "print(nextBigNumber(15))"
   ]
  }
 ],
 "metadata": {
  "kernelspec": {
   "display_name": "Python 3",
   "language": "python",
   "name": "python3"
  },
  "language_info": {
   "codemirror_mode": {
    "name": "ipython",
    "version": 3
   },
   "file_extension": ".py",
   "mimetype": "text/x-python",
   "name": "python",
   "nbconvert_exporter": "python",
   "pygments_lexer": "ipython3",
   "version": "3.6.6"
  }
 },
 "nbformat": 4,
 "nbformat_minor": 2
}
