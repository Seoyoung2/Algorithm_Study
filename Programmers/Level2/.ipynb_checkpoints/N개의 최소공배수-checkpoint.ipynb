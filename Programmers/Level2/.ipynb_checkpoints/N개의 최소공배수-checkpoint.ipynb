{
 "cells": [
  {
   "cell_type": "markdown",
   "metadata": {},
   "source": [
    "두 수의 최소공배수(Least Common Multiple)란 입력된 두 수의 배수 중 공통이 되는 가장 작은 숫자를 의미합니다. 예를 들어 2와 7의 최소공배수는 14가 됩니다. 정의를 확장해서, n개의 수의 최소공배수는 n 개의 수들의 배수 중 공통이 되는 가장 작은 숫자가 됩니다. n개의 숫자를 담은 배열 arr이 입력되었을 때 이 수들의 최소공배수를 반환하는 함수, solution을 완성해 주세요.\n",
    "\n",
    "- arr은 길이 1이상, 15이하인 배열입니다.\n",
    "- arr의 원소는 100 이하인 자연수입니다."
   ]
  },
  {
   "cell_type": "code",
   "execution_count": 1,
   "metadata": {},
   "outputs": [
    {
     "name": "stdout",
     "output_type": "stream",
     "text": [
      "168\n",
      "6\n"
     ]
    }
   ],
   "source": [
    "def solution(arr):\n",
    "    mmax, ans = max(arr), 0\n",
    "    check = True\n",
    "    while check:\n",
    "        check = False\n",
    "        ans += mmax\n",
    "        for n in arr:\n",
    "            if ans%n:\n",
    "                check = True\n",
    "                break\n",
    "    return ans\n",
    "\n",
    "\n",
    "print(solution([2,6,8,14]))\n",
    "print(solution([1,2,3]))"
   ]
  },
  {
   "cell_type": "markdown",
   "metadata": {},
   "source": [
    "다른사람의 풀이에서 gcd()함수를 이용한 풀이법."
   ]
  },
  {
   "cell_type": "code",
   "execution_count": 6,
   "metadata": {},
   "outputs": [
    {
     "name": "stdout",
     "output_type": "stream",
     "text": [
      "168\n"
     ]
    }
   ],
   "source": [
    "from math import gcd\n",
    "\n",
    "def nlcm(num):      \n",
    "    answer = num[0]\n",
    "    for n in num:\n",
    "        answer = n * answer // gcd(n, answer)\n",
    "    return answer\n",
    "\n",
    "# 아래는 테스트로 출력해 보기 위한 코드입니다.\n",
    "print(nlcm([2,6,8,14]));"
   ]
  },
  {
   "cell_type": "code",
   "execution_count": null,
   "metadata": {},
   "outputs": [],
   "source": []
  }
 ],
 "metadata": {
  "kernelspec": {
   "display_name": "Python 3",
   "language": "python",
   "name": "python3"
  },
  "language_info": {
   "codemirror_mode": {
    "name": "ipython",
    "version": 3
   },
   "file_extension": ".py",
   "mimetype": "text/x-python",
   "name": "python",
   "nbconvert_exporter": "python",
   "pygments_lexer": "ipython3",
   "version": "3.6.6"
  }
 },
 "nbformat": 4,
 "nbformat_minor": 2
}
