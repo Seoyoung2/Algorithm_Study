{
 "cells": [
  {
   "cell_type": "markdown",
   "metadata": {},
   "source": [
    "124 나라가 있습니다. 124 나라에서는 10진법이 아닌 다음과 같은 자신들만의 규칙으로 수를 표현합니다.\n",
    "\n",
    "1. 124 나라에는 자연수만 존재합니다.\n",
    "2. 124 나라에는 모든 수를 표현할 때 1, 2, 4만 사용합니다.\n",
    "\n",
    "자연수 n이 매개변수로 주어질 때, n을 124 나라에서 사용하는 숫자로 바꾼 값을 return 하도록 solution 함수를 완성해 주세요.\n",
    "\n",
    "- n은 500,000,000이하의 자연수 입니다."
   ]
  },
  {
   "cell_type": "code",
   "execution_count": 1,
   "metadata": {},
   "outputs": [
    {
     "name": "stdout",
     "output_type": "stream",
     "text": [
      "1\n",
      "11\n",
      "21\n",
      "42\n",
      "44\n"
     ]
    }
   ],
   "source": [
    "def solution(n):\n",
    "    ans = \"\"\n",
    "    cnt = 0\n",
    "    while n>0:\n",
    "        rem = n % 3\n",
    "        if not rem:\n",
    "            n -= 1\n",
    "        ans = \"412\"[rem] + ans\n",
    "        n = n//3\n",
    "    return ans\n",
    "\n",
    "\n",
    "print(solution(1))\n",
    "print(solution(4))\n",
    "print(solution(7))\n",
    "print(solution(11))\n",
    "print(solution(12))"
   ]
  }
 ],
 "metadata": {
  "kernelspec": {
   "display_name": "Python 3",
   "language": "python",
   "name": "python3"
  },
  "language_info": {
   "codemirror_mode": {
    "name": "ipython",
    "version": 3
   },
   "file_extension": ".py",
   "mimetype": "text/x-python",
   "name": "python",
   "nbconvert_exporter": "python",
   "pygments_lexer": "ipython3",
   "version": "3.6.6"
  }
 },
 "nbformat": 4,
 "nbformat_minor": 2
}
